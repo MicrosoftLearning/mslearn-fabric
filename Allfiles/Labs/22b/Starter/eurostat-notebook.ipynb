{
    "cells": [
        {
            "cell_type": "markdown",
            "id": "0fe697ed-8f92-41a9-8a17-9641fec1601d",
            "metadata": {
                "nteract": {
                    "transient": {
                        "deleting": false
                    }
                }
            },
            "source": [
                "# Explore Eurostat population data.\n",
                "\n",
                "In this example, we use Copilot for Fabric Data Engineering to load, transform, and save data in a Lakehouse. Let's imagine Contoso Health, a multi-specialty hospital network, wants to expand its services in the EU and wants to analyze projected population data. This example uses the [Eurostat](https://ec.europa.eu/eurostat/web/main/home) (statistical office of the European Union) population projection dataset.\n",
                "\n",
                "Source: EUROPOP2023 Population on January 1 by age, sex, and type of projection [[proj_23np](https://ec.europa.eu/eurostat/databrowser/product/view/proj_23np?category=proj.proj_23n)], Last updated June 28, 2023.\n",
                "\n",
                "The following prerequisites should be in place before you start:\n",
                "\n",
                "- Access to a Microsoft Fabric tenant account with an active subscription. [Create an account](https://azure.microsoft.com/free/).\n",
                "- Created a Workspace with Fabric enabled: [Create a workspace](/fabric/fundamentals/create-workspaces).\n",
                "- Created a Lakehouse.\n",
                "- Imported this notebook and attach it to your Lakehouse.\n",
                "\n",
                "Chat commands are special commands you can use in your Microsoft Fabric notebooks to interact with Copilot. Here's a list of the most commonly used commands:\n",
                "\n",
                "| Command | Description |\n",
                "| ------- | ----------- |\n",
                "| `%%chat` | Ask questions about the state of your notebook. |\n",
                "| `%%code` | Code generation for data manipulation or visualization. |\n",
                "| `%show_chat_history` | Show the chat history. |\n",
                "| `%clear_chat_history` | Clear the chat history. |\n",
                "| `%set_output` | Change the default for how magic commands provide output. Choose where to place the generated code, from options like <br>- current cell<br>- new cell<br>- cell output<br>- into a variable<br> |\n",
                "| `%describe` | Provides summaries and descriptions of loaded dataframes. |\n",
                "| `%%add_comments` | Add comments to your code. |\n",
                "\n",
                "This notebook has already been populated with a number %%code commands. Execute each cell indivudally, and wait for the code result to appear. Once ready, execute the code that was generated. Notice Copilot may give slightly different results, so you might need to adapt the prompt or the resulted code.\n"
            ]
        },
        {
            "cell_type": "markdown",
            "id": "3122df02-f09b-49c0-bfcc-c36761a1a4e3",
            "metadata": {
                "microsoft": {
                    "language": "python",
                    "language_group": "synapse_pyspark"
                },
                "nteract": {
                    "transient": {
                        "deleting": false
                    }
                }
            },
            "source": [
                "## Load data\n",
                "\n",
                "In this first prompt, we will ask Copilot to generate the code to download the data from the eurostat source. We want the data -as is- to be loaded in the our lakehouse. Make sure a lakehouse has been attached. Once you execute the cell, notice below a new cell will be created containing the code to execute."
            ]
        },
        {
            "cell_type": "code",
            "execution_count": null,
            "id": "d3d62aef-0705-48fb-b8ef-38ae50dea08e",
            "metadata": {
                "microsoft": {
                    "language": "python",
                    "language_group": "synapse_pyspark"
                }
            },
            "outputs": [],
            "source": [
                "%%code\n",
                "\n",
                "Download the following file from this URL:\n",
                "\n",
                "https://ec.europa.eu/eurostat/api/dissemination/sdmx/2.1/data/proj_23np$defaultview/?format=TSV\n",
                " \n",
                "Then write the file to the default lakehouse into a folder named temp. Create the folder if it doesn't exist yet."
            ]
        },
        {
            "cell_type": "markdown",
            "id": "8956e839-c1aa-4437-8708-f7b5712d1dc5",
            "metadata": {
                "microsoft": {
                    "language": "python",
                    "language_group": "synapse_pyspark"
                },
                "nteract": {
                    "transient": {
                        "deleting": false
                    }
                }
            },
            "source": [
                "Once we have the data downloaded to our lakehouse, we want to load it into a dataframe so we can look at the data and start transforming it."
            ]
        },
        {
            "cell_type": "code",
            "execution_count": null,
            "id": "47f40215-0686-4fc4-ad07-57702796d356",
            "metadata": {
                "microsoft": {
                    "language": "python",
                    "language_group": "synapse_pyspark"
                }
            },
            "outputs": [],
            "source": [
                "%%code\n",
                "\n",
                "Load the file 'Files/temp/proj_23np.tsv' into a spark dataframe.\n",
                "\n",
                "The fields are separated with a tab.\n",
                "\n",
                "Show the contents of the DataFrame using display method."
            ]
        },
        {
            "cell_type": "markdown",
            "id": "8bb2a8a1-ca07-48dc-aec7-cd9b65537486",
            "metadata": {
                "microsoft": {
                    "language": "python",
                    "language_group": "synapse_pyspark"
                },
                "nteract": {
                    "transient": {
                        "deleting": false
                    }
                }
            },
            "source": [
                "## Transform data: split fields"
            ]
        },
        {
            "cell_type": "code",
            "execution_count": null,
            "id": "3ddd17ca-41a6-4d3a-9612-59703ad7a83c",
            "metadata": {
                "microsoft": {
                    "language": "python",
                    "language_group": "synapse_pyspark"
                }
            },
            "outputs": [],
            "source": [
                "%%code\n",
                "Split the first field 'freq,projection,sex,age,unit,geo\\TIME_PERIOD' using a comma into 6 separate fields."
            ]
        },
        {
            "cell_type": "markdown",
            "id": "09c5d34d",
            "metadata": {},
            "source": [
                "## Transform data: remove fields"
            ]
        },
        {
            "cell_type": "code",
            "execution_count": null,
            "id": "6805e250-777a-4337-9baf-a9d53742b0e6",
            "metadata": {
                "microsoft": {
                    "language": "python",
                    "language_group": "synapse_pyspark"
                }
            },
            "outputs": [],
            "source": [
                "%%code\n",
                "Remove the fields 'freq', 'age', 'unit'."
            ]
        },
        {
            "cell_type": "markdown",
            "id": "d7026a28-4aad-40f6-be1e-0a34cd19de14",
            "metadata": {
                "microsoft": {
                    "language": "python",
                    "language_group": "synapse_pyspark"
                },
                "nteract": {
                    "transient": {
                        "deleting": false
                    }
                }
            },
            "source": [
                "## Transform data: reposition fields"
            ]
        },
        {
            "cell_type": "code",
            "execution_count": null,
            "id": "f2d5fe75-e98c-4561-96c8-4d272d26141f",
            "metadata": {
                "microsoft": {
                    "language": "python",
                    "language_group": "synapse_pyspark"
                }
            },
            "outputs": [],
            "source": [
                "%%code\n",
                "The fields 'projection', 'sex', 'geo' should be positioned first."
            ]
        },
        {
            "cell_type": "markdown",
            "id": "e554c3b4-bb26-4353-b198-a20e7c57fed5",
            "metadata": {
                "microsoft": {
                    "language": "python",
                    "language_group": "synapse_pyspark"
                },
                "nteract": {
                    "transient": {
                        "deleting": false
                    }
                }
            },
            "source": [
                "## Transform data: replace values"
            ]
        },
        {
            "cell_type": "code",
            "execution_count": null,
            "id": "3b5efc40-4a2a-4191-98b7-d5b888e27d0a",
            "metadata": {
                "microsoft": {
                    "language": "python",
                    "language_group": "synapse_pyspark"
                }
            },
            "outputs": [],
            "source": [
                "%%code\n",
                "The 'projection' field contains codes that should be replaced with the following values:\n",
                "    _'BSL' -> 'Baseline projections'.\n",
                "    _'LFRT' -> 'Sensitivity test: lower fertility'.\n",
                "    _'LMRT' -> 'Sensitivity test: lower mortality'.\n",
                "    _'HMIGR' -> 'Sensitivity test: higher migration'.\n",
                "    _'LMIGR' -> 'Sensitivity test: lower migration'.\n",
                "    _'NMIGR' -> 'Sensitivity test: no migration'."
            ]
        },
        {
            "cell_type": "markdown",
            "id": "dc75168d-a15a-4cb7-8f0c-27a7304b0bbe",
            "metadata": {
                "microsoft": {
                    "language": "python",
                    "language_group": "synapse_pyspark"
                },
                "nteract": {
                    "transient": {
                        "deleting": false
                    }
                }
            },
            "source": [
                "## Transform data: filter data"
            ]
        },
        {
            "cell_type": "code",
            "execution_count": null,
            "id": "dec3b29f-402f-4128-b655-288f41b51864",
            "metadata": {
                "microsoft": {
                    "language": "python",
                    "language_group": "synapse_pyspark"
                }
            },
            "outputs": [],
            "source": [
                "%%code\n",
                "Filter the 'geo' field and remove values 'EA20' and 'EU27_2020' (these are not countries)."
            ]
        },
        {
            "cell_type": "code",
            "execution_count": null,
            "id": "49e85ba5-f2bd-44b6-83b0-c0f4167ed756",
            "metadata": {
                "microsoft": {
                    "language": "python",
                    "language_group": "synapse_pyspark"
                }
            },
            "outputs": [],
            "source": [
                "%%code\n",
                "Filter the 'sex' field and remove 'T' (these are totals)."
            ]
        },
        {
            "cell_type": "markdown",
            "id": "a053f92e-23bc-4b78-ae6d-e7744b157ae9",
            "metadata": {
                "microsoft": {
                    "language": "python",
                    "language_group": "synapse_pyspark"
                },
                "nteract": {
                    "transient": {
                        "deleting": false
                    }
                }
            },
            "source": [
                "## Transform data: strip spaces"
            ]
        },
        {
            "cell_type": "code",
            "execution_count": null,
            "id": "a1e87683-d05e-4774-af7b-e081186bfbf8",
            "metadata": {
                "microsoft": {
                    "language": "python",
                    "language_group": "synapse_pyspark"
                }
            },
            "outputs": [],
            "source": [
                "%%code\n",
                "Strip spaces from all field names in the dataframe."
            ]
        },
        {
            "cell_type": "markdown",
            "id": "76f36a3d-30f1-41e0-8864-f56441998769",
            "metadata": {
                "microsoft": {
                    "language": "python",
                    "language_group": "synapse_pyspark"
                },
                "nteract": {
                    "transient": {
                        "deleting": false
                    }
                }
            },
            "source": [
                "## Transform data: data type conversion"
            ]
        },
        {
            "cell_type": "code",
            "execution_count": null,
            "id": "c65d276d-8973-4986-ad0b-112d047290bd",
            "metadata": {
                "microsoft": {
                    "language": "python",
                    "language_group": "synapse_pyspark"
                }
            },
            "outputs": [],
            "source": [
                "%%code\n",
                "Convert the data type of all the year fields to integer."
            ]
        },
        {
            "cell_type": "markdown",
            "id": "2edf4f3b",
            "metadata": {},
            "source": [
                "## Save data"
            ]
        },
        {
            "cell_type": "markdown",
            "id": "90280f76",
            "metadata": {},
            "source": [
                "%%code\n",
                "Save the dataframe as a new table named 'Population' in the default lakehouse."
            ]
        },
        {
            "cell_type": "markdown",
            "id": "926ecf70",
            "metadata": {},
            "source": [
                "## Ask questions"
            ]
        },
        {
            "cell_type": "markdown",
            "id": "cdece701",
            "metadata": {},
            "source": []
        }
    ],
    "metadata": {
        "dependencies": {
            "lakehouse": {}
        },
        "kernel_info": {
            "name": "synapse_pyspark"
        },
        "kernelspec": {
            "display_name": "synapse_pyspark",
            "name": "synapse_pyspark"
        },
        "language_info": {
            "name": "python"
        },
        "microsoft": {
            "language": "python",
            "language_group": "synapse_pyspark",
            "ms_spell_check": {
                "ms_spell_check_language": "en"
            }
        },
        "nteract": {
            "version": "nteract-front-end@1.0.0"
        },
        "spark_compute": {
            "compute_id": "/trident/default",
            "session_options": {
                "conf": {
                    "spark.synapse.nbs.session.timeout": "1200000"
                }
            }
        },
        "synapse_widget": {
            "state": {},
            "version": "0.1"
        }
    },
    "nbformat": 4,
    "nbformat_minor": 5
}
